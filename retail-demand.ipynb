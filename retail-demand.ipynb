{
  "cells": [
    {
      "cell_type": "markdown",
      "metadata": {
        "id": "view-in-github",
        "colab_type": "text"
      },
      "source": [
        "<a href=\"https://colab.research.google.com/github/AryaPratamaPutra-10/ML_Project/blob/main/retail-demand.ipynb\" target=\"_parent\"><img src=\"https://colab.research.google.com/assets/colab-badge.svg\" alt=\"Open In Colab\"/></a>"
      ]
    },
    {
      "cell_type": "code",
      "source": [
        "import os\n",
        "import zipfile\n",
        "import numpy as np\n",
        "import pandas as pd\n",
        "import matplotlib.pyplot as plt\n",
        "import seaborn as sns\n",
        "from sklearn.cluster import KMeans\n",
        "import calendar\n",
        "%matplotlib inline\n"
      ],
      "metadata": {
        "id": "q0hG2GbKPU6C"
      },
      "execution_count": 39,
      "outputs": []
    },
    {
      "cell_type": "code",
      "source": [
        "dataset_url = \"https://github.com/AryaPratamaPutra-10/ML_Project/blob/1cc5ab980e0dd4c54039e815900359cd516ad764/Retail_Dataset2.csv\""
      ],
      "metadata": {
        "id": "ELYsd2V3P2lj"
      },
      "execution_count": 12,
      "outputs": []
    },
    {
      "cell_type": "code",
      "source": [
        "!kaggle datasets download -d rishavdash/retail-demand-forecasting-dataset\n"
      ],
      "metadata": {
        "id": "fwB7xrboZHnq",
        "outputId": "f05eb623-8246-4791-d0c5-b5001bd50c77",
        "colab": {
          "base_uri": "https://localhost:8080/"
        }
      },
      "execution_count": 40,
      "outputs": [
        {
          "output_type": "stream",
          "name": "stdout",
          "text": [
            "Traceback (most recent call last):\n",
            "  File \"/usr/local/bin/kaggle\", line 10, in <module>\n",
            "    sys.exit(main())\n",
            "             ^^^^^^\n",
            "  File \"/usr/local/lib/python3.11/dist-packages/kaggle/cli.py\", line 68, in main\n",
            "    out = args.func(**command_args)\n",
            "          ^^^^^^^^^^^^^^^^^^^^^^^^^\n",
            "  File \"/usr/local/lib/python3.11/dist-packages/kaggle/api/kaggle_api_extended.py\", line 1741, in dataset_download_cli\n",
            "    with self.build_kaggle_client() as kaggle:\n",
            "         ^^^^^^^^^^^^^^^^^^^^^^^^^^\n",
            "  File \"/usr/local/lib/python3.11/dist-packages/kaggle/api/kaggle_api_extended.py\", line 688, in build_kaggle_client\n",
            "    username=self.config_values['username'],\n",
            "             ~~~~~~~~~~~~~~~~~~^^^^^^^^^^^^\n",
            "KeyError: 'username'\n"
          ]
        }
      ]
    },
    {
      "cell_type": "code",
      "source": [
        "def download_and_extract_kaggle_dataset(dataset_name, output_dir):\n",
        "    zip_file = f\"retail-demand-forecasting-dataset.zip\"  # nama file harus cocok!\n",
        "    if os.path.exists(zip_file):\n",
        "        os.makedirs(output_dir, exist_ok=True)\n",
        "        with zipfile.ZipFile(zip_file, 'r') as zip_ref:\n",
        "            zip_ref.extractall(output_dir)\n",
        "        os.remove(zip_file)\n",
        "        print(f\"Dataset berhasil diekstrak ke: {output_dir}\")\n",
        "    else:\n",
        "        print(\"File ZIP tidak ditemukan!\")\n"
      ],
      "metadata": {
        "id": "35JLMePppj3E"
      },
      "execution_count": 42,
      "outputs": []
    },
    {
      "cell_type": "code",
      "source": [
        "def download_and_extract_kaggle_dataset(dataset_name, output_dir):\n",
        "    zip_file = f\"/content/{dataset_name.split('/')[-1]}.zip\"\n",
        "    if not os.path.exists(zip_file):\n",
        "        os.system(f\"kaggle datasets download -d {dataset_name} -p /content\")\n",
        "        if os.path.exists(zip_file):\n",
        "              with zipfile.ZipFile(zip_file, 'r') as zip_ref:\n",
        "                  zip_ref.extractall(output_dir)\n",
        "        os.remove(zip_file)\n",
        "        print(f\"Dataset berhasil diekstrak ke: {output_dir}\")\n",
        "    else:\n",
        "        print(\"File ZIP tidak ditemukan!\")\n",
        "\n",
        "\n",
        "    # unduh dataset\n",
        "    dataset_name = \"rishavdash/retail-demand-forecasting-dataset\"\n",
        "    output_dir = \"/content/retail-demand\"\n",
        "    download_and_extract_kaggle_dataset(dataset_name, output_dir)"
      ],
      "metadata": {
        "id": "IJ-tbkgTb7xV"
      },
      "execution_count": 32,
      "outputs": []
    },
    {
      "cell_type": "code",
      "source": [
        "dataset_name = \"rishavdash/retail-demand-forecasting-dataset\"\n",
        "output_dir = \"/content/retail-demand\"\n",
        "download_and_extract_kaggle_dataset(dataset_name, output_dir)"
      ],
      "metadata": {
        "id": "aJcfhyNGwjwi",
        "outputId": "e4ec5c79-5088-459e-8313-41b917e146af",
        "colab": {
          "base_uri": "https://localhost:8080/"
        }
      },
      "execution_count": 43,
      "outputs": [
        {
          "output_type": "stream",
          "name": "stdout",
          "text": [
            "File ZIP tidak ditemukan!\n"
          ]
        }
      ]
    },
    {
      "cell_type": "markdown",
      "source": [
        "Load dataset"
      ],
      "metadata": {
        "id": "oBtHr60jwpVw"
      }
    },
    {
      "cell_type": "code",
      "source": [
        "data_path = os.path.join(output_dir, \"retail_demand.csv\")  # sesuaikan nama file hasil ekstrak\n",
        "if os.path.exists(data_path):\n",
        "    retail_data = pd.read_csv(data_path)\n",
        "else:\n",
        "    raise FileNotFoundError(\"Dataset tidak ditemukan. Periksa path dataset.\")\n"
      ],
      "metadata": {
        "id": "7RvZkMUbwonP",
        "outputId": "2b3893d2-8a36-4c1b-c7cd-21b0d5b1d438",
        "colab": {
          "base_uri": "https://localhost:8080/",
          "height": 176
        }
      },
      "execution_count": 45,
      "outputs": [
        {
          "output_type": "error",
          "ename": "FileNotFoundError",
          "evalue": "Dataset tidak ditemukan. Periksa path dataset.",
          "traceback": [
            "\u001b[0;31m---------------------------------------------------------------------------\u001b[0m",
            "\u001b[0;31mFileNotFoundError\u001b[0m                         Traceback (most recent call last)",
            "\u001b[0;32m<ipython-input-45-4133429839>\u001b[0m in \u001b[0;36m<cell line: 0>\u001b[0;34m()\u001b[0m\n\u001b[1;32m      3\u001b[0m     \u001b[0mretail_data\u001b[0m \u001b[0;34m=\u001b[0m \u001b[0mpd\u001b[0m\u001b[0;34m.\u001b[0m\u001b[0mread_csv\u001b[0m\u001b[0;34m(\u001b[0m\u001b[0mdata_path\u001b[0m\u001b[0;34m)\u001b[0m\u001b[0;34m\u001b[0m\u001b[0;34m\u001b[0m\u001b[0m\n\u001b[1;32m      4\u001b[0m \u001b[0;32melse\u001b[0m\u001b[0;34m:\u001b[0m\u001b[0;34m\u001b[0m\u001b[0;34m\u001b[0m\u001b[0m\n\u001b[0;32m----> 5\u001b[0;31m     \u001b[0;32mraise\u001b[0m \u001b[0mFileNotFoundError\u001b[0m\u001b[0;34m(\u001b[0m\u001b[0;34m\"Dataset tidak ditemukan. Periksa path dataset.\"\u001b[0m\u001b[0;34m)\u001b[0m\u001b[0;34m\u001b[0m\u001b[0;34m\u001b[0m\u001b[0m\n\u001b[0m",
            "\u001b[0;31mFileNotFoundError\u001b[0m: Dataset tidak ditemukan. Periksa path dataset."
          ]
        }
      ]
    },
    {
      "cell_type": "markdown",
      "source": [],
      "metadata": {
        "id": "9mdUqnOAw90W"
      }
    },
    {
      "cell_type": "code",
      "source": [
        "import os\n",
        "\n",
        "for root, dirs, files in os.walk(output_dir):\n",
        "    for file in files:\n",
        "        print(\"Ditemukan file:\", os.path.join(root, file))\n"
      ],
      "metadata": {
        "id": "a04lzdD0w-6O"
      },
      "execution_count": 47,
      "outputs": []
    },
    {
      "cell_type": "code",
      "source": [
        "import pandas as pd\n",
        "\n",
        "if os.path.exists(data_path):\n",
        "    retail_data = pd.read_csv(data_path)\n",
        "    print(retail_data.head())\n",
        "else:\n",
        "    raise FileNotFoundError(\"Dataset tidak ditemukan. Periksa path dataset.\")\n"
      ],
      "metadata": {
        "id": "w6b_DrEkxFl8",
        "outputId": "6a68cf7a-c26c-412a-bea2-87e175378fc5",
        "colab": {
          "base_uri": "https://localhost:8080/",
          "height": 176
        }
      },
      "execution_count": 48,
      "outputs": [
        {
          "output_type": "error",
          "ename": "FileNotFoundError",
          "evalue": "Dataset tidak ditemukan. Periksa path dataset.",
          "traceback": [
            "\u001b[0;31m---------------------------------------------------------------------------\u001b[0m",
            "\u001b[0;31mFileNotFoundError\u001b[0m                         Traceback (most recent call last)",
            "\u001b[0;32m<ipython-input-48-2561111351>\u001b[0m in \u001b[0;36m<cell line: 0>\u001b[0;34m()\u001b[0m\n\u001b[1;32m      5\u001b[0m     \u001b[0mprint\u001b[0m\u001b[0;34m(\u001b[0m\u001b[0mretail_data\u001b[0m\u001b[0;34m.\u001b[0m\u001b[0mhead\u001b[0m\u001b[0;34m(\u001b[0m\u001b[0;34m)\u001b[0m\u001b[0;34m)\u001b[0m\u001b[0;34m\u001b[0m\u001b[0;34m\u001b[0m\u001b[0m\n\u001b[1;32m      6\u001b[0m \u001b[0;32melse\u001b[0m\u001b[0;34m:\u001b[0m\u001b[0;34m\u001b[0m\u001b[0;34m\u001b[0m\u001b[0m\n\u001b[0;32m----> 7\u001b[0;31m     \u001b[0;32mraise\u001b[0m \u001b[0mFileNotFoundError\u001b[0m\u001b[0;34m(\u001b[0m\u001b[0;34m\"Dataset tidak ditemukan. Periksa path dataset.\"\u001b[0m\u001b[0;34m)\u001b[0m\u001b[0;34m\u001b[0m\u001b[0;34m\u001b[0m\u001b[0m\n\u001b[0m",
            "\u001b[0;31mFileNotFoundError\u001b[0m: Dataset tidak ditemukan. Periksa path dataset."
          ]
        }
      ]
    }
  ],
  "metadata": {
    "colab": {
      "name": "Selamat Datang di Colab",
      "provenance": [],
      "include_colab_link": true
    },
    "kernelspec": {
      "display_name": "Python 3",
      "name": "python3"
    }
  },
  "nbformat": 4,
  "nbformat_minor": 0
}